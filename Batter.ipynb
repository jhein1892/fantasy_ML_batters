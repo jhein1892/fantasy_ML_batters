{
 "cells": [
  {
   "cell_type": "code",
   "execution_count": 1,
   "id": "b4286f28",
   "metadata": {},
   "outputs": [
    {
     "name": "stdout",
     "output_type": "stream",
     "text": [
      "../../../../Documents/MLBData/\n"
     ]
    }
   ],
   "source": [
    "import os\n",
    "import pandas as pd\n",
    "import matplotlib.pyplot as plt\n",
    "import numpy as np\n",
    "from pandas.plotting import scatter_matrix\n",
    "from sklearn.model_selection import train_test_split\n",
    "\n",
    "DATA_FOLDER = \"../../../../Documents/MLBData/\"\n",
    "print(DATA_FOLDER)\n",
    "\n",
    "def load_batting_data(fileName,data_path = DATA_FOLDER):\n",
    "    csv_path = os.path.join(data_path,fileName)\n",
    "    return pd.read_csv(csv_path)\n",
    "\n",
    "\n",
    "advanced = load_batting_data('2018-BattingAdvanced(CSV).csv')\n",
    "advanced = advanced[advanced['PA'] >= 50]\n",
    "advanced.drop(columns=['Tm', 'cWPA'], inplace=True)\n",
    "\n",
    "standard = load_batting_data('2018-BattingStandard(CSV).csv')\n",
    "standard = standard[standard['PA'] >= 50]\n",
    "standard.drop(columns=['Pos Summary', 'Tm', 'Lg', 'Name', 'Age', 'PA'], inplace=True)\n"
   ]
  },
  {
   "cell_type": "code",
   "execution_count": 2,
   "id": "4ed97dc1",
   "metadata": {},
   "outputs": [],
   "source": [
    "percentValues = ['HR%', 'SO%','BB%','HardH%', 'LD%', 'GB%','FB%', 'Pull%', 'Cent%', 'Oppo%', 'RS%', 'SB%', 'XBT%']\n",
    "for value in percentValues:\n",
    "    advanced[value] = advanced[value].apply(lambda x: float(x.strip('%')) if isinstance(x, str) else x)\n",
    "\n",
    "# advanced.hist(bins=100, figsize =(20, 15))\n",
    "# plt.show()"
   ]
  },
  {
   "cell_type": "code",
   "execution_count": 3,
   "id": "76fd5ace",
   "metadata": {},
   "outputs": [],
   "source": [
    "total_stats = pd.merge(advanced, standard, on='Name-additional', how='outer')"
   ]
  },
  {
   "cell_type": "code",
   "execution_count": 10,
   "id": "fba18472",
   "metadata": {},
   "outputs": [],
   "source": [
    "# total_stats.info()\n",
    "# total_stats.tail()"
   ]
  },
  {
   "cell_type": "code",
   "execution_count": 5,
   "id": "d0cbda32",
   "metadata": {},
   "outputs": [
    {
     "name": "stdout",
     "output_type": "stream",
     "text": [
      "440\n",
      "111\n"
     ]
    }
   ],
   "source": [
    "league_avg = total_stats.iloc[-1]\n",
    "\n",
    "train_set, test_set = train_test_split(total_stats, test_size=0.2, random_state=42)\n",
    "\n",
    "# print(league_avg)\n",
    "print(len(train_set))\n",
    "print(len(test_set))"
   ]
  },
  {
   "cell_type": "code",
   "execution_count": 6,
   "id": "ad2b0520",
   "metadata": {},
   "outputs": [],
   "source": [
    "training_stats = train_set.copy()\n",
    "\n",
    "# Create a new dataframe with only the columns to subtract\n",
    "cols_to_subtract = [col for col in training_stats.columns if col not in ['Name-additional', 'Name', 'Age']]\n",
    "cols_to_subtract_df = training_stats[cols_to_subtract]\n",
    "\n",
    "# Subtract the last row of the new dataframe from the original dataframe\n",
    "training_stats[cols_to_subtract] = training_stats[cols_to_subtract].sub(cols_to_subtract_df.iloc[-1])\n"
   ]
  },
  {
   "cell_type": "code",
   "execution_count": 7,
   "id": "53445a90",
   "metadata": {},
   "outputs": [],
   "source": [
    "# training_stats.info()\n",
    "# training_stats.head()\n",
    "# print(training_stats.columns)\n",
    "# cor_matrix = training_stats.corr()\n",
    "# cor_matrix['BB'].sort_values(ascending = False)"
   ]
  },
  {
   "cell_type": "code",
   "execution_count": 8,
   "id": "e1b958ed",
   "metadata": {},
   "outputs": [],
   "source": [
    "# attributes= ['BB', 'R', 'SO%']\n",
    "# scatter_matrix(training_stats[attributes], figsize=(12, 8))"
   ]
  },
  {
   "cell_type": "code",
   "execution_count": 9,
   "id": "0e0208cc",
   "metadata": {},
   "outputs": [],
   "source": []
  },
  {
   "cell_type": "code",
   "execution_count": null,
   "id": "07e72b7d",
   "metadata": {},
   "outputs": [],
   "source": [
    "# Starting Data Cleaning:\n"
   ]
  }
 ],
 "metadata": {
  "kernelspec": {
   "display_name": "Python 3 (ipykernel)",
   "language": "python",
   "name": "python3"
  },
  "language_info": {
   "codemirror_mode": {
    "name": "ipython",
    "version": 3
   },
   "file_extension": ".py",
   "mimetype": "text/x-python",
   "name": "python",
   "nbconvert_exporter": "python",
   "pygments_lexer": "ipython3",
   "version": "3.8.12"
  },
  "vscode": {
   "interpreter": {
    "hash": "aee8b7b246df8f9039afb4144a1f6fd8d2ca17a180786b69acc140d282b71a49"
   }
  }
 },
 "nbformat": 4,
 "nbformat_minor": 5
}
