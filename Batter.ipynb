{
 "cells": [
  {
   "cell_type": "code",
   "execution_count": 3,
   "id": "b4286f28",
   "metadata": {},
   "outputs": [
    {
     "name": "stdout",
     "output_type": "stream",
     "text": [
      "../../../../Documents/MLBData/\n"
     ]
    }
   ],
   "source": [
    "import os\n",
    "import pandas as pd\n",
    "import matplotlib.pyplot as plt\n",
    "import numpy as np\n",
    "from pandas.plotting import scatter_matrix\n",
    "from sklearn.model_selection import train_test_split\n",
    "from sklearn.pipeline import Pipeline\n",
    "from sklearn.impute import SimpleImputer\n",
    "from sklearn.preprocessing import StandardScaler\n",
    "from sklearn.compose import ColumnTransformer\n",
    "\n",
    "from sklearn.linear_model import LinearRegression\n",
    "from sklearn.multioutput import MultiOutputRegressor\n",
    "from sklearn.tree import DecisionTreeRegressor\n",
    "from sklearn.ensemble import RandomForestRegressor\n",
    "\n",
    "from sklearn.metrics import mean_squared_error\n",
    "from sklearn.model_selection import cross_val_score\n",
    "\n",
    "from sklearn.model_selection import GridSearchCV\n",
    "\n",
    "DATA_FOLDER = \"../../../../Documents/MLBData/\"\n",
    "print(DATA_FOLDER)\n",
    "\n",
    "def load_batting_data(fileName,data_path = DATA_FOLDER):\n",
    "    csv_path = os.path.join(data_path,fileName)\n",
    "    return pd.read_csv(csv_path)\n",
    "\n",
    "# advanced, standard = pd.DataFrame(), pd.DataFrame()\n",
    "total_stats = pd.DataFrame()\n",
    "years = ['2017', '2018']\n",
    "\n",
    "\n",
    "for year in years:\n",
    "    # For each year I want to get the advanced and standard data\n",
    "    advancedData = load_batting_data(f\"{year}-BattingAdvanced(CSV).csv\")\n",
    "    standardData = load_batting_data(f\"{year}-BattingStandard(CSV).csv\")\n",
    "    \n",
    "    # Clean up the data\n",
    "    advancedData = advancedData[advancedData['PA'] >=50]\n",
    "    percentValues = ['HR%', 'SO%','BB%','HardH%', 'LD%', 'GB%','FB%', 'Pull%', 'Cent%', 'Oppo%', 'RS%', 'SB%', 'XBT%']\n",
    "    for value in percentValues:\n",
    "        advancedData[value] = advancedData[value].apply(lambda x: float(x.strip('%')) if isinstance(x, str) else x)\n",
    "#     advancedData.drop(columns=['Tm', 'cWPA'], inplace = True)\n",
    "        \n",
    "    standardData = standardData[standardData['PA'] >= 50]\n",
    "    standardData.drop(columns=['Pos Summary', 'Tm', 'Lg', 'Name', 'Age', 'PA', 'BA'], inplace=True)\n",
    "    \n",
    "    # combine the data together\n",
    "    year_stats = pd.merge(advancedData, standardData, on='Name-additional', how='outer')\n",
    "    \n",
    "    # concat the data the our total data pd\n",
    "    total_stats = pd.concat([total_stats, year_stats])\n",
    "    \n",
    "    \n",
    "    \n",
    "#     advanced = pd.concat([advanced, advancedData])\n",
    "#     standard = pd.concat([standard, standardData])\n",
    "#     advanced = advanced.append(advancedData)\n",
    "#     standard = standard.append(standardData)\n",
    "\n",
    "    "
   ]
  },
  {
   "cell_type": "code",
   "execution_count": 4,
   "id": "4ed97dc1",
   "metadata": {},
   "outputs": [],
   "source": [
    "# percentValues = ['HR%', 'SO%','BB%','HardH%', 'LD%', 'GB%','FB%', 'Pull%', 'Cent%', 'Oppo%', 'RS%', 'SB%', 'XBT%']\n",
    "# for value in percentValues:\n",
    "#     advanced[value] = advanced[value].apply(lambda x: float(x.strip('%')) if isinstance(x, str) else x)"
   ]
  },
  {
   "cell_type": "code",
   "execution_count": 5,
   "id": "76fd5ace",
   "metadata": {},
   "outputs": [
    {
     "name": "stdout",
     "output_type": "stream",
     "text": [
      "<class 'pandas.core.frame.DataFrame'>\n",
      "Int64Index: 1098 entries, 0 to 550\n",
      "Data columns (total 49 columns):\n",
      " #   Column           Non-Null Count  Dtype  \n",
      "---  ------           --------------  -----  \n",
      " 0   Name             1098 non-null   object \n",
      " 1   Age              1096 non-null   float64\n",
      " 2   Tm               1096 non-null   object \n",
      " 3   PA               1098 non-null   int64  \n",
      " 4   rOBA             1098 non-null   float64\n",
      " 5   Rbat+            1098 non-null   float64\n",
      " 6   BAbip            1098 non-null   float64\n",
      " 7   ISO              1098 non-null   float64\n",
      " 8   HR%              1098 non-null   float64\n",
      " 9   SO%              1098 non-null   float64\n",
      " 10  BB%              1098 non-null   float64\n",
      " 11  EV               1098 non-null   float64\n",
      " 12  HardH%           1098 non-null   float64\n",
      " 13  LD%              1098 non-null   float64\n",
      " 14  GB%              1098 non-null   float64\n",
      " 15  FB%              1098 non-null   float64\n",
      " 16  GB/FB            1098 non-null   float64\n",
      " 17  Pull%            1098 non-null   float64\n",
      " 18  Cent%            1098 non-null   float64\n",
      " 19  Oppo%            1098 non-null   float64\n",
      " 20  WPA              1098 non-null   float64\n",
      " 21  cWPA             1098 non-null   object \n",
      " 22  RE24             1098 non-null   float64\n",
      " 23  RS%              1098 non-null   float64\n",
      " 24  SB%              843 non-null    float64\n",
      " 25  XBT%             1092 non-null   float64\n",
      " 26  Name-additional  1098 non-null   object \n",
      " 27  G                1098 non-null   int64  \n",
      " 28  AB               1098 non-null   int64  \n",
      " 29  R                1098 non-null   int64  \n",
      " 30  H                1098 non-null   int64  \n",
      " 31  2B               1098 non-null   int64  \n",
      " 32  3B               1098 non-null   int64  \n",
      " 33  HR               1098 non-null   int64  \n",
      " 34  RBI              1098 non-null   int64  \n",
      " 35  SB               1098 non-null   int64  \n",
      " 36  CS               1098 non-null   int64  \n",
      " 37  BB               1098 non-null   int64  \n",
      " 38  SO               1098 non-null   int64  \n",
      " 39  OBP              1098 non-null   float64\n",
      " 40  SLG              1098 non-null   float64\n",
      " 41  OPS              1098 non-null   float64\n",
      " 42  OPS+             1096 non-null   float64\n",
      " 43  TB               1098 non-null   int64  \n",
      " 44  GDP              1098 non-null   int64  \n",
      " 45  HBP              1098 non-null   int64  \n",
      " 46  SH               1098 non-null   int64  \n",
      " 47  SF               1098 non-null   int64  \n",
      " 48  IBB              1098 non-null   int64  \n",
      "dtypes: float64(26), int64(19), object(4)\n",
      "memory usage: 428.9+ KB\n"
     ]
    }
   ],
   "source": [
    "# total_stats = pd.merge(advanced, standard, on='Name-additional', how='outer')\n",
    "total_stats.info()"
   ]
  },
  {
   "cell_type": "code",
   "execution_count": null,
   "id": "d0cbda32",
   "metadata": {},
   "outputs": [],
   "source": [
    "league_avg = total_stats.iloc[-1]\n",
    "\n",
    "train_set, test_set = train_test_split(total_stats, test_size=0.2, random_state=42) # Split into test and train"
   ]
  },
  {
   "cell_type": "code",
   "execution_count": null,
   "id": "ad2b0520",
   "metadata": {},
   "outputs": [],
   "source": [
    "training_stats = train_set.drop(['H', 'R', 'HR', 'RBI','SB','BB', 'IBB','HBP','OPS'], axis=1) # Remove label from data set\n",
    "training_labels = train_set[['H', 'R', 'HR', 'RBI','SB','BB', 'IBB','HBP','OPS']].copy() # Copy the label values\n",
    "training_stats.info()"
   ]
  },
  {
   "cell_type": "code",
   "execution_count": null,
   "id": "07e72b7d",
   "metadata": {},
   "outputs": [],
   "source": [
    "# Starting Data Cleaning:\n",
    "training_stats['XBT%'].fillna(0,inplace=True)\n",
    "training_stats['SB%'].fillna(0, inplace=True)"
   ]
  },
  {
   "cell_type": "code",
   "execution_count": null,
   "id": "c5060238",
   "metadata": {},
   "outputs": [],
   "source": [
    "# fitting missing Data\n",
    "imputer = SimpleImputer(strategy='median')\n",
    "batting_num = training_stats.drop(['Name-additional', 'Name'], axis=1) #need to only have numeric values for fitting\n",
    "imputer.fit(batting_num)\n",
    "X = imputer.transform(batting_num)\n",
    "batting_tr = pd.DataFrame(X, columns=batting_num.columns, index=batting_num.index)"
   ]
  },
  {
   "cell_type": "code",
   "execution_count": null,
   "id": "49584022",
   "metadata": {},
   "outputs": [],
   "source": [
    "num_pipeline = Pipeline([\n",
    "    ('imputer', SimpleImputer(strategy='median')),\n",
    "    ('std_scaler',StandardScaler())\n",
    "])"
   ]
  },
  {
   "cell_type": "code",
   "execution_count": null,
   "id": "ef78891c",
   "metadata": {},
   "outputs": [],
   "source": [
    "num_attribs = list(batting_num)\n",
    "\n",
    "full_pipeline = ColumnTransformer([\n",
    "    ('num', num_pipeline, num_attribs)\n",
    "])\n",
    "\n",
    "batting_prepared = full_pipeline.fit_transform(batting_tr)"
   ]
  },
  {
   "cell_type": "code",
   "execution_count": null,
   "id": "9e549763",
   "metadata": {},
   "outputs": [],
   "source": [
    "#### Selecting and Training a Model"
   ]
  },
  {
   "cell_type": "code",
   "execution_count": null,
   "id": "7dcccf9f",
   "metadata": {},
   "outputs": [],
   "source": [
    "## Linear Model\n",
    "lin_reg = LinearRegression()\n",
    "multioutput_reg = MultiOutputRegressor(lin_reg)\n",
    "multioutput_reg.fit(batting_prepared, training_labels)"
   ]
  },
  {
   "cell_type": "code",
   "execution_count": null,
   "id": "20452b6c",
   "metadata": {},
   "outputs": [],
   "source": [
    "# Testing section used to see if our model is working"
   ]
  },
  {
   "cell_type": "code",
   "execution_count": null,
   "id": "6b495347",
   "metadata": {},
   "outputs": [],
   "source": [
    "stat_predictions = multioutput_reg.predict(batting_prepared)\n",
    "\n",
    "# for i, column in enumerate(training_labels.columns):\n",
    "#     scores = cross_val_score(multioutput_reg, batting_prepared, training_labels[column].values.reshape(-1, 1), scoring='neg_mean_squared_error', cv=10)\n",
    "#     tree_rmse_scores = np.sqrt(-scores)\n",
    "#     print(f\"For {column}:\\nScores: {scores}, Mean: {scores.mean()}, Standard Deviation: {scores.std()}\")\n",
    "#     mse = mean_squared_error(training_labels[column], stat_predictions[:, i])\n",
    "#     rmse = np.sqrt(mse)\n",
    "#     print(f\"RMSE for {column}: {rmse:.2f}\")\n",
    "#     RMSE for H: 3.27\n",
    "#     RMSE for R: 4.64\n",
    "#     RMSE for HR: 1.09\n",
    "#     RMSE for RBI: 4.83\n",
    "#     RMSE for SB: 3.13\n",
    "#     RMSE for BB: 1.83\n",
    "#     RMSE for IBB: 2.02\n",
    "#     RMSE for HBP: 1.82\n",
    "#     RMSE for OPS: 0.00"
   ]
  },
  {
   "cell_type": "code",
   "execution_count": null,
   "id": "0d6c52fa",
   "metadata": {},
   "outputs": [],
   "source": [
    "## Decision Tree\n",
    "# tree_reg = DecisionTreeRegressor()\n",
    "# tree_reg.fit(batting_prepared, training_labels)\n",
    "\n",
    "# stat_predictions_tree = tree_reg.predict(batting_prepared)\n",
    "\n",
    "\n",
    "# for i, column in enumerate(training_labels.columns):\n",
    "#     scores = cross_val_score(tree_reg, batting_prepared, training_labels[column], scoring='neg_mean_squared_error', cv=10)\n",
    "#     tree_rmse_scores = np.sqrt(-scores)\n",
    "#     print(f\"For {column}:\\nScores: {scores}, Mean: {scores.mean()}, Standard Deviation: {scores.std()}\")\n",
    "\n",
    "    "
   ]
  },
  {
   "cell_type": "code",
   "execution_count": null,
   "id": "dc5bd579",
   "metadata": {},
   "outputs": [],
   "source": [
    "## Random Forest\n",
    "forest_reg = RandomForestRegressor()\n",
    "forest_reg.fit(batting_prepared, training_labels)\n",
    "\n",
    "stat_predictions_forest = forest_reg.predict(batting_prepared)\n",
    "for i, column in enumerate(training_labels.columns):\n",
    "#     scores = cross_val_score(forest_reg, batting_prepared, training_labels[column], scoring='neg_mean_squared_error', cv=10)\n",
    "#     tree_rmse_scores = np.sqrt(-scores)\n",
    "#     print(f\"For {column}:\\nScores: {scores}, Mean: {scores.mean()}, Standard Deviation: {scores.std()}\")\n",
    "    mse = mean_squared_error(training_labels[column], stat_predictions_forest[:, i])\n",
    "    rmse = np.sqrt(mse)\n",
    "    print(f\"RMSE for {column}: {rmse:.2f}\")\n",
    "    #     RMSE for H: 2.55\n",
    "    # RMSE for R: 2.29\n",
    "    # RMSE for HR: 1.04\n",
    "    # RMSE for RBI: 2.52\n",
    "    # RMSE for SB: 1.99\n",
    "    # RMSE for BB: 2.52\n",
    "    # RMSE for IBB: 0.91\n",
    "    # RMSE for HBP: 1.18\n",
    "    # RMSE for OPS: 0.02\n",
    "\n",
    "    \n",
    "    "
   ]
  },
  {
   "cell_type": "code",
   "execution_count": null,
   "id": "6d23c21b",
   "metadata": {},
   "outputs": [],
   "source": [
    "# Fine Tuning the models"
   ]
  },
  {
   "cell_type": "code",
   "execution_count": null,
   "id": "06c31433",
   "metadata": {},
   "outputs": [],
   "source": [
    "param_grid = [\n",
    "    {'n_estimators': [100], 'max_features': [16]},\n",
    "#     {'bootstrap':[False], 'n_estimators': [3, 10], 'max_features': [2,3,4]}\n",
    "]\n",
    "\n",
    "grid_search = GridSearchCV(forest_reg, param_grid, cv=5, scoring='neg_mean_squared_error', return_train_score=True)\n",
    "\n",
    "grid_search.fit(batting_prepared, training_labels)\n",
    "\n",
    "grid_search.best_params_"
   ]
  },
  {
   "cell_type": "code",
   "execution_count": null,
   "id": "dae2bff7",
   "metadata": {},
   "outputs": [],
   "source": [
    "grid_search.best_estimator_"
   ]
  },
  {
   "cell_type": "code",
   "execution_count": null,
   "id": "ce1ae7e7",
   "metadata": {},
   "outputs": [],
   "source": [
    "cvres = grid_search.cv_results_\n",
    "for mean_score, params in zip(cvres['mean_test_score'], cvres['params']):\n",
    "    print(np.sqrt(-mean_score), params)"
   ]
  },
  {
   "cell_type": "code",
   "execution_count": null,
   "id": "accd4242",
   "metadata": {},
   "outputs": [],
   "source": [
    "##Final Model testing\n",
    "final_model = grid_search.best_estimator_\n",
    "\n",
    "testing_stats = test_set.drop(['H', 'R', 'HR', 'RBI','SB','BB', 'IBB','HBP','OPS'], axis=1) # Remove label from data set\n",
    "testing_labels = test_set[['H', 'R', 'HR', 'RBI','SB','BB', 'IBB','HBP','OPS']].copy() # Copy the label values\n",
    "\n",
    "X_test_prepared = full_pipeline.transform(testing_stats)\n",
    "\n",
    "final_predictions = final_model.predict(X_test_prepared)\n",
    "for i, column in enumerate(testing_labels.columns):\n",
    "    final_mse = mean_squared_error(testing_labels[column], final_predictions[:,i])\n",
    "    final_rmse = np.sqrt(final_mse)\n",
    "    print(f\"RMSE for {column}: {final_rmse:.2f}\")\n",
    "\n",
    "# RMSE for H: 7.05\n",
    "# RMSE for R: 5.98\n",
    "# RMSE for HR: 2.92\n",
    "# RMSE for RBI: 8.27\n",
    "# RMSE for SB: 5.73\n",
    "# RMSE for BB: 8.26\n",
    "# RMSE for IBB: 2.16\n",
    "# RMSE for HBP: 3.11\n",
    "# RMSE for OPS: 0.05\n"
   ]
  },
  {
   "cell_type": "code",
   "execution_count": null,
   "id": "6368000e",
   "metadata": {},
   "outputs": [],
   "source": []
  }
 ],
 "metadata": {
  "kernelspec": {
   "display_name": "Python 3 (ipykernel)",
   "language": "python",
   "name": "python3"
  },
  "language_info": {
   "codemirror_mode": {
    "name": "ipython",
    "version": 3
   },
   "file_extension": ".py",
   "mimetype": "text/x-python",
   "name": "python",
   "nbconvert_exporter": "python",
   "pygments_lexer": "ipython3",
   "version": "3.9.7"
  },
  "vscode": {
   "interpreter": {
    "hash": "aee8b7b246df8f9039afb4144a1f6fd8d2ca17a180786b69acc140d282b71a49"
   }
  }
 },
 "nbformat": 4,
 "nbformat_minor": 5
}
