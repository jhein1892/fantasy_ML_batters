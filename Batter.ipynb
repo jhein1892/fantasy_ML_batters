{
 "cells": [
  {
   "cell_type": "code",
   "execution_count": 1,
   "id": "b4286f28",
   "metadata": {},
   "outputs": [
    {
     "name": "stdout",
     "output_type": "stream",
     "text": [
      "../../../../Documents/MLBData/\n"
     ]
    }
   ],
   "source": [
    "import os\n",
    "import pandas as pd\n",
    "import matplotlib.pyplot as plt\n",
    "import numpy as np\n",
    "from pandas.plotting import scatter_matrix\n",
    "from sklearn.model_selection import train_test_split\n",
    "from sklearn.pipeline import Pipeline\n",
    "from sklearn.impute import SimpleImputer\n",
    "from sklearn.preprocessing import StandardScaler\n",
    "from sklearn.compose import ColumnTransformer\n",
    "\n",
    "DATA_FOLDER = \"../../../../Documents/MLBData/\"\n",
    "print(DATA_FOLDER)\n",
    "\n",
    "def load_batting_data(fileName,data_path = DATA_FOLDER):\n",
    "    csv_path = os.path.join(data_path,fileName)\n",
    "    return pd.read_csv(csv_path)\n",
    "\n",
    "\n",
    "advanced = load_batting_data('2018-BattingAdvanced(CSV).csv')\n",
    "advanced = advanced[advanced['PA'] >= 50]\n",
    "advanced.drop(columns=['Tm', 'cWPA'], inplace=True)\n",
    "\n",
    "standard = load_batting_data('2018-BattingStandard(CSV).csv')\n",
    "standard = standard[standard['PA'] >= 50]\n",
    "standard.drop(columns=['Pos Summary', 'Tm', 'Lg', 'Name', 'Age', 'PA'], inplace=True)\n"
   ]
  },
  {
   "cell_type": "code",
   "execution_count": 2,
   "id": "4ed97dc1",
   "metadata": {},
   "outputs": [],
   "source": [
    "percentValues = ['HR%', 'SO%','BB%','HardH%', 'LD%', 'GB%','FB%', 'Pull%', 'Cent%', 'Oppo%', 'RS%', 'SB%', 'XBT%']\n",
    "for value in percentValues:\n",
    "    advanced[value] = advanced[value].apply(lambda x: float(x.strip('%')) if isinstance(x, str) else x)"
   ]
  },
  {
   "cell_type": "code",
   "execution_count": 3,
   "id": "76fd5ace",
   "metadata": {},
   "outputs": [],
   "source": [
    "total_stats = pd.merge(advanced, standard, on='Name-additional', how='outer')"
   ]
  },
  {
   "cell_type": "code",
   "execution_count": 4,
   "id": "d0cbda32",
   "metadata": {},
   "outputs": [
    {
     "name": "stdout",
     "output_type": "stream",
     "text": [
      "440\n",
      "111\n"
     ]
    }
   ],
   "source": [
    "league_avg = total_stats.iloc[-1]\n",
    "\n",
    "train_set, test_set = train_test_split(total_stats, test_size=0.2, random_state=42)\n",
    "\n",
    "# print(league_avg)\n",
    "print(len(train_set))\n",
    "print(len(test_set))"
   ]
  },
  {
   "cell_type": "code",
   "execution_count": 5,
   "id": "ad2b0520",
   "metadata": {},
   "outputs": [
    {
     "name": "stdout",
     "output_type": "stream",
     "text": [
      "<class 'pandas.core.frame.DataFrame'>\n",
      "Int64Index: 440 entries, 388 to 102\n",
      "Data columns (total 48 columns):\n",
      " #   Column           Non-Null Count  Dtype  \n",
      "---  ------           --------------  -----  \n",
      " 0   Name             440 non-null    object \n",
      " 1   Age              439 non-null    float64\n",
      " 2   PA               440 non-null    int64  \n",
      " 3   rOBA             440 non-null    float64\n",
      " 4   Rbat+            440 non-null    float64\n",
      " 5   BAbip            440 non-null    float64\n",
      " 6   ISO              440 non-null    float64\n",
      " 7   HR%              440 non-null    float64\n",
      " 8   SO%              440 non-null    float64\n",
      " 9   BB%              440 non-null    float64\n",
      " 10  EV               440 non-null    float64\n",
      " 11  HardH%           440 non-null    float64\n",
      " 12  LD%              440 non-null    float64\n",
      " 13  GB%              440 non-null    float64\n",
      " 14  FB%              440 non-null    float64\n",
      " 15  GB/FB            440 non-null    float64\n",
      " 16  Pull%            440 non-null    float64\n",
      " 17  Cent%            440 non-null    float64\n",
      " 18  Oppo%            440 non-null    float64\n",
      " 19  WPA              440 non-null    float64\n",
      " 20  RE24             440 non-null    float64\n",
      " 21  RS%              440 non-null    float64\n",
      " 22  SB%              329 non-null    float64\n",
      " 23  XBT%             436 non-null    float64\n",
      " 24  Name-additional  440 non-null    object \n",
      " 25  G                440 non-null    int64  \n",
      " 26  AB               440 non-null    int64  \n",
      " 27  R                440 non-null    int64  \n",
      " 28  H                440 non-null    int64  \n",
      " 29  2B               440 non-null    int64  \n",
      " 30  3B               440 non-null    int64  \n",
      " 31  HR               440 non-null    int64  \n",
      " 32  RBI              440 non-null    int64  \n",
      " 33  SB               440 non-null    int64  \n",
      " 34  CS               440 non-null    int64  \n",
      " 35  BB               440 non-null    int64  \n",
      " 36  SO               440 non-null    int64  \n",
      " 37  BA               440 non-null    float64\n",
      " 38  OBP              440 non-null    float64\n",
      " 39  SLG              440 non-null    float64\n",
      " 40  OPS              440 non-null    float64\n",
      " 41  OPS+             439 non-null    float64\n",
      " 42  TB               440 non-null    int64  \n",
      " 43  GDP              440 non-null    int64  \n",
      " 44  HBP              440 non-null    int64  \n",
      " 45  SH               440 non-null    int64  \n",
      " 46  SF               440 non-null    int64  \n",
      " 47  IBB              440 non-null    int64  \n",
      "dtypes: float64(27), int64(19), object(2)\n",
      "memory usage: 168.4+ KB\n"
     ]
    }
   ],
   "source": [
    "training_stats = train_set.copy()\n",
    "training_stats.info()"
   ]
  },
  {
   "cell_type": "code",
   "execution_count": 6,
   "id": "07e72b7d",
   "metadata": {},
   "outputs": [],
   "source": [
    "# Starting Data Cleaning:\n",
    "\n",
    "# medianOPS = training_stats['OPS+'].median()#Taking Median for OPS\n",
    "# medianAge = training_stats['Age'].median() \n",
    "# training_stats['OPS+'].fillna(medianOPS, inplace=True)\n",
    "training_stats['XBT%'].fillna(0,inplace=True)\n",
    "training_stats['SB%'].fillna(0, inplace=True)\n",
    "# training_stats['Age'].fillna(medianAge, inplace=True)\n",
    "\n"
   ]
  },
  {
   "cell_type": "code",
   "execution_count": 7,
   "id": "96fb42b2",
   "metadata": {},
   "outputs": [],
   "source": [
    "# fitting missing Data\n",
    "imputer = SimpleImputer(strategy='median')\n",
    "batting_num = training_stats.drop(['Name-additional', 'Name'], axis=1) #need to only have numeric values for fitting\n",
    "imputer.fit(batting_num)\n",
    "X = imputer.transform(batting_num)\n",
    "batting_tr = pd.DataFrame(X, columns=batting_num.columns, index=batting_num.index)\n",
    "\n",
    "# batting_tr.info()"
   ]
  },
  {
   "cell_type": "code",
   "execution_count": 8,
   "id": "4669d648",
   "metadata": {},
   "outputs": [],
   "source": [
    "num_pipeline = Pipeline([\n",
    "    ('imputer', SimpleImputer(strategy='median')),\n",
    "    ('std_scaler',StandardScaler())\n",
    "])"
   ]
  },
  {
   "cell_type": "code",
   "execution_count": 9,
   "id": "6a905291",
   "metadata": {},
   "outputs": [],
   "source": [
    "num_attribs = list(batting_num)\n",
    "\n",
    "full_pipeline = ColumnTransformer([\n",
    "    ('num', num_pipeline, num_attribs)\n",
    "])\n",
    "\n",
    "batting_prepared = full_pipeline.fit_transform(batting_tr)"
   ]
  }
 ],
 "metadata": {
  "kernelspec": {
   "display_name": "Python 3 (ipykernel)",
   "language": "python",
   "name": "python3"
  },
  "language_info": {
   "codemirror_mode": {
    "name": "ipython",
    "version": 3
   },
   "file_extension": ".py",
   "mimetype": "text/x-python",
   "name": "python",
   "nbconvert_exporter": "python",
   "pygments_lexer": "ipython3",
   "version": "3.8.12"
  },
  "vscode": {
   "interpreter": {
    "hash": "aee8b7b246df8f9039afb4144a1f6fd8d2ca17a180786b69acc140d282b71a49"
   }
  }
 },
 "nbformat": 4,
 "nbformat_minor": 5
}
