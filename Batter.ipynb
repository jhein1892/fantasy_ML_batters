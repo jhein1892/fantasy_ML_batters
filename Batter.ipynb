{
 "cells": [
  {
   "cell_type": "code",
   "execution_count": 72,
   "id": "b4286f28",
   "metadata": {},
   "outputs": [
    {
     "name": "stdout",
     "output_type": "stream",
     "text": [
      "../../../../Documents/MLBData/\n"
     ]
    }
   ],
   "source": [
    "import os\n",
    "import pandas as pd\n",
    "import matplotlib.pyplot as plt\n",
    "import numpy as np\n",
    "from pandas.plotting import scatter_matrix\n",
    "from sklearn.model_selection import train_test_split\n",
    "from sklearn.pipeline import Pipeline\n",
    "from sklearn.impute import SimpleImputer\n",
    "from sklearn.preprocessing import StandardScaler\n",
    "from sklearn.compose import ColumnTransformer\n",
    "\n",
    "from sklearn.linear_model import LinearRegression\n",
    "from sklearn.multioutput import MultiOutputRegressor\n",
    "from sklearn.tree import DecisionTreeRegressor\n",
    "from sklearn.ensemble import RandomForestRegressor\n",
    "\n",
    "from sklearn.metrics import mean_squared_error\n",
    "from sklearn.model_selection import cross_val_score\n",
    "\n",
    "from sklearn.model_selection import GridSearchCV\n",
    "\n",
    "DATA_FOLDER = \"../../../../Documents/MLBData/\"\n",
    "print(DATA_FOLDER)\n",
    "\n",
    "def load_batting_data(fileName,data_path = DATA_FOLDER):\n",
    "    csv_path = os.path.join(data_path,fileName)\n",
    "    return pd.read_csv(csv_path)\n",
    "\n",
    "# advanced, standard = pd.DataFrame(), pd.DataFrame()\n",
    "total_stats = pd.DataFrame()\n",
    "years = ['2015','2016','2017','2018','2019','2020','2021']\n",
    "\n",
    "\n",
    "for year in years:\n",
    "    # For each year I want to get the advanced and standard data\n",
    "    advancedData = load_batting_data(f\"{year}-BattingAdvanced(CSV).csv\")\n",
    "    standardData = load_batting_data(f\"{year}-BattingStandard(CSV).csv\")\n",
    "    \n",
    "    # Clean up the data\n",
    "    advancedData = advancedData[advancedData['PA'] >=50]\n",
    "    percentValues = ['HR%', 'SO%','BB%','HardH%', 'LD%', 'GB%','FB%', 'Pull%', 'Cent%', 'Oppo%', 'RS%', 'SB%', 'XBT%']\n",
    "    for value in percentValues:\n",
    "        advancedData[value] = advancedData[value].apply(lambda x: float(x.strip('%')) if isinstance(x, str) else x)\n",
    "#     advancedData.drop(columns=['Tm', 'cWPA'], inplace = True)\n",
    "        \n",
    "    standardData = standardData[standardData['PA'] >= 50]\n",
    "    standardData.drop(columns=['Pos Summary', 'Tm', 'Lg', 'Name', 'Age', 'PA', 'BA'], inplace=True)\n",
    "    \n",
    "    # combine the data together\n",
    "    year_stats = pd.merge(advancedData, standardData, on='Name-additional', how='outer')\n",
    "    year_stats.drop(columns=['Tm', 'cWPA'], inplace= True)\n",
    "    \n",
    "    # concat the data the our total data pd\n",
    "    total_stats = pd.concat([total_stats, year_stats])\n",
    "    \n",
    "    \n",
    "    \n",
    "#     advanced = pd.concat([advanced, advancedData])\n",
    "#     standard = pd.concat([standard, standardData])\n",
    "#     advanced = advanced.append(advancedData)\n",
    "#     standard = standard.append(standardData)\n",
    "\n",
    "    "
   ]
  },
  {
   "cell_type": "code",
   "execution_count": 73,
   "id": "4ed97dc1",
   "metadata": {},
   "outputs": [],
   "source": [
    "# percentValues = ['HR%', 'SO%','BB%','HardH%', 'LD%', 'GB%','FB%', 'Pull%', 'Cent%', 'Oppo%', 'RS%', 'SB%', 'XBT%']\n",
    "# for value in percentValues:\n",
    "#     advanced[value] = advanced[value].apply(lambda x: float(x.strip('%')) if isinstance(x, str) else x)"
   ]
  },
  {
   "cell_type": "code",
   "execution_count": 74,
   "id": "76fd5ace",
   "metadata": {},
   "outputs": [
    {
     "name": "stdout",
     "output_type": "stream",
     "text": [
      "<class 'pandas.core.frame.DataFrame'>\n",
      "Int64Index: 3728 entries, 0 to 556\n",
      "Data columns (total 47 columns):\n",
      " #   Column           Non-Null Count  Dtype  \n",
      "---  ------           --------------  -----  \n",
      " 0   Name             3727 non-null   object \n",
      " 1   Age              3721 non-null   float64\n",
      " 2   PA               3727 non-null   float64\n",
      " 3   rOBA             3727 non-null   float64\n",
      " 4   Rbat+            3727 non-null   float64\n",
      " 5   BAbip            3727 non-null   float64\n",
      " 6   ISO              3727 non-null   float64\n",
      " 7   HR%              3727 non-null   float64\n",
      " 8   SO%              3727 non-null   float64\n",
      " 9   BB%              3727 non-null   float64\n",
      " 10  EV               3727 non-null   float64\n",
      " 11  HardH%           3727 non-null   float64\n",
      " 12  LD%              3727 non-null   float64\n",
      " 13  GB%              3727 non-null   float64\n",
      " 14  FB%              3727 non-null   float64\n",
      " 15  GB/FB            3727 non-null   float64\n",
      " 16  Pull%            3727 non-null   float64\n",
      " 17  Cent%            3727 non-null   float64\n",
      " 18  Oppo%            3727 non-null   float64\n",
      " 19  WPA              3727 non-null   float64\n",
      " 20  RE24             3727 non-null   float64\n",
      " 21  RS%              3726 non-null   float64\n",
      " 22  SB%              2754 non-null   float64\n",
      " 23  XBT%             3710 non-null   float64\n",
      " 24  Name-additional  3728 non-null   object \n",
      " 25  G                3728 non-null   int64  \n",
      " 26  AB               3728 non-null   int64  \n",
      " 27  R                3728 non-null   int64  \n",
      " 28  H                3728 non-null   int64  \n",
      " 29  2B               3728 non-null   int64  \n",
      " 30  3B               3728 non-null   int64  \n",
      " 31  HR               3728 non-null   int64  \n",
      " 32  RBI              3728 non-null   int64  \n",
      " 33  SB               3728 non-null   int64  \n",
      " 34  CS               3728 non-null   int64  \n",
      " 35  BB               3728 non-null   int64  \n",
      " 36  SO               3728 non-null   int64  \n",
      " 37  OBP              3728 non-null   float64\n",
      " 38  SLG              3728 non-null   float64\n",
      " 39  OPS              3728 non-null   float64\n",
      " 40  OPS+             3721 non-null   float64\n",
      " 41  TB               3728 non-null   int64  \n",
      " 42  GDP              3728 non-null   int64  \n",
      " 43  HBP              3728 non-null   int64  \n",
      " 44  SH               3728 non-null   int64  \n",
      " 45  SF               3728 non-null   int64  \n",
      " 46  IBB              3728 non-null   int64  \n",
      "dtypes: float64(27), int64(18), object(2)\n",
      "memory usage: 1.4+ MB\n"
     ]
    }
   ],
   "source": [
    "# total_stats = pd.merge(advanced, standard, on='Name-additional', how='outer')\n",
    "total_stats.info()"
   ]
  },
  {
   "cell_type": "code",
   "execution_count": 75,
   "id": "d0cbda32",
   "metadata": {},
   "outputs": [],
   "source": [
    "league_avg = total_stats.iloc[-1]\n",
    "\n",
    "train_set, test_set = train_test_split(total_stats, test_size=0.2, random_state=42) # Split into test and train"
   ]
  },
  {
   "cell_type": "code",
   "execution_count": 76,
   "id": "ad2b0520",
   "metadata": {},
   "outputs": [
    {
     "name": "stdout",
     "output_type": "stream",
     "text": [
      "<class 'pandas.core.frame.DataFrame'>\n",
      "Int64Index: 2982 entries, 195 to 3\n",
      "Data columns (total 38 columns):\n",
      " #   Column           Non-Null Count  Dtype  \n",
      "---  ------           --------------  -----  \n",
      " 0   Name             2982 non-null   object \n",
      " 1   Age              2977 non-null   float64\n",
      " 2   PA               2982 non-null   float64\n",
      " 3   rOBA             2982 non-null   float64\n",
      " 4   Rbat+            2982 non-null   float64\n",
      " 5   BAbip            2982 non-null   float64\n",
      " 6   ISO              2982 non-null   float64\n",
      " 7   HR%              2982 non-null   float64\n",
      " 8   SO%              2982 non-null   float64\n",
      " 9   BB%              2982 non-null   float64\n",
      " 10  EV               2982 non-null   float64\n",
      " 11  HardH%           2982 non-null   float64\n",
      " 12  LD%              2982 non-null   float64\n",
      " 13  GB%              2982 non-null   float64\n",
      " 14  FB%              2982 non-null   float64\n",
      " 15  GB/FB            2982 non-null   float64\n",
      " 16  Pull%            2982 non-null   float64\n",
      " 17  Cent%            2982 non-null   float64\n",
      " 18  Oppo%            2982 non-null   float64\n",
      " 19  WPA              2982 non-null   float64\n",
      " 20  RE24             2982 non-null   float64\n",
      " 21  RS%              2981 non-null   float64\n",
      " 22  SB%              2203 non-null   float64\n",
      " 23  XBT%             2970 non-null   float64\n",
      " 24  Name-additional  2982 non-null   object \n",
      " 25  G                2982 non-null   int64  \n",
      " 26  AB               2982 non-null   int64  \n",
      " 27  2B               2982 non-null   int64  \n",
      " 28  3B               2982 non-null   int64  \n",
      " 29  CS               2982 non-null   int64  \n",
      " 30  SO               2982 non-null   int64  \n",
      " 31  OBP              2982 non-null   float64\n",
      " 32  SLG              2982 non-null   float64\n",
      " 33  OPS+             2977 non-null   float64\n",
      " 34  TB               2982 non-null   int64  \n",
      " 35  GDP              2982 non-null   int64  \n",
      " 36  SH               2982 non-null   int64  \n",
      " 37  SF               2982 non-null   int64  \n",
      "dtypes: float64(26), int64(10), object(2)\n",
      "memory usage: 908.6+ KB\n"
     ]
    }
   ],
   "source": [
    "training_stats = train_set.drop(['H', 'R', 'HR', 'RBI','SB','BB', 'IBB','HBP','OPS'], axis=1) # Remove label from data set\n",
    "training_labels = train_set[['H', 'R', 'HR', 'RBI','SB','BB', 'IBB','HBP','OPS']].copy() # Copy the label values\n",
    "training_stats.info()"
   ]
  },
  {
   "cell_type": "code",
   "execution_count": 77,
   "id": "07e72b7d",
   "metadata": {},
   "outputs": [],
   "source": [
    "# Starting Data Cleaning:\n",
    "training_stats['XBT%'].fillna(0,inplace=True)\n",
    "training_stats['SB%'].fillna(0, inplace=True)"
   ]
  },
  {
   "cell_type": "code",
   "execution_count": 78,
   "id": "c5060238",
   "metadata": {},
   "outputs": [],
   "source": [
    "# fitting missing Data\n",
    "imputer = SimpleImputer(strategy='median')\n",
    "batting_num = training_stats.drop(['Name-additional', 'Name'], axis=1) #need to only have numeric values for fitting\n",
    "imputer.fit(batting_num)\n",
    "X = imputer.transform(batting_num)\n",
    "batting_tr = pd.DataFrame(X, columns=batting_num.columns, index=batting_num.index)"
   ]
  },
  {
   "cell_type": "code",
   "execution_count": 79,
   "id": "49584022",
   "metadata": {},
   "outputs": [],
   "source": [
    "num_pipeline = Pipeline([\n",
    "    ('imputer', SimpleImputer(strategy='median')),\n",
    "    ('std_scaler',StandardScaler())\n",
    "])"
   ]
  },
  {
   "cell_type": "code",
   "execution_count": 80,
   "id": "ef78891c",
   "metadata": {},
   "outputs": [],
   "source": [
    "num_attribs = list(batting_num)\n",
    "\n",
    "full_pipeline = ColumnTransformer([\n",
    "    ('num', num_pipeline, num_attribs)\n",
    "])\n",
    "\n",
    "batting_prepared = full_pipeline.fit_transform(batting_tr)"
   ]
  },
  {
   "cell_type": "code",
   "execution_count": 81,
   "id": "9e549763",
   "metadata": {},
   "outputs": [],
   "source": [
    "#### Selecting and Training a Model"
   ]
  },
  {
   "cell_type": "code",
   "execution_count": 82,
   "id": "7dcccf9f",
   "metadata": {},
   "outputs": [
    {
     "data": {
      "text/html": [
       "<style>#sk-container-id-5 {color: black;background-color: white;}#sk-container-id-5 pre{padding: 0;}#sk-container-id-5 div.sk-toggleable {background-color: white;}#sk-container-id-5 label.sk-toggleable__label {cursor: pointer;display: block;width: 100%;margin-bottom: 0;padding: 0.3em;box-sizing: border-box;text-align: center;}#sk-container-id-5 label.sk-toggleable__label-arrow:before {content: \"▸\";float: left;margin-right: 0.25em;color: #696969;}#sk-container-id-5 label.sk-toggleable__label-arrow:hover:before {color: black;}#sk-container-id-5 div.sk-estimator:hover label.sk-toggleable__label-arrow:before {color: black;}#sk-container-id-5 div.sk-toggleable__content {max-height: 0;max-width: 0;overflow: hidden;text-align: left;background-color: #f0f8ff;}#sk-container-id-5 div.sk-toggleable__content pre {margin: 0.2em;color: black;border-radius: 0.25em;background-color: #f0f8ff;}#sk-container-id-5 input.sk-toggleable__control:checked~div.sk-toggleable__content {max-height: 200px;max-width: 100%;overflow: auto;}#sk-container-id-5 input.sk-toggleable__control:checked~label.sk-toggleable__label-arrow:before {content: \"▾\";}#sk-container-id-5 div.sk-estimator input.sk-toggleable__control:checked~label.sk-toggleable__label {background-color: #d4ebff;}#sk-container-id-5 div.sk-label input.sk-toggleable__control:checked~label.sk-toggleable__label {background-color: #d4ebff;}#sk-container-id-5 input.sk-hidden--visually {border: 0;clip: rect(1px 1px 1px 1px);clip: rect(1px, 1px, 1px, 1px);height: 1px;margin: -1px;overflow: hidden;padding: 0;position: absolute;width: 1px;}#sk-container-id-5 div.sk-estimator {font-family: monospace;background-color: #f0f8ff;border: 1px dotted black;border-radius: 0.25em;box-sizing: border-box;margin-bottom: 0.5em;}#sk-container-id-5 div.sk-estimator:hover {background-color: #d4ebff;}#sk-container-id-5 div.sk-parallel-item::after {content: \"\";width: 100%;border-bottom: 1px solid gray;flex-grow: 1;}#sk-container-id-5 div.sk-label:hover label.sk-toggleable__label {background-color: #d4ebff;}#sk-container-id-5 div.sk-serial::before {content: \"\";position: absolute;border-left: 1px solid gray;box-sizing: border-box;top: 0;bottom: 0;left: 50%;z-index: 0;}#sk-container-id-5 div.sk-serial {display: flex;flex-direction: column;align-items: center;background-color: white;padding-right: 0.2em;padding-left: 0.2em;position: relative;}#sk-container-id-5 div.sk-item {position: relative;z-index: 1;}#sk-container-id-5 div.sk-parallel {display: flex;align-items: stretch;justify-content: center;background-color: white;position: relative;}#sk-container-id-5 div.sk-item::before, #sk-container-id-5 div.sk-parallel-item::before {content: \"\";position: absolute;border-left: 1px solid gray;box-sizing: border-box;top: 0;bottom: 0;left: 50%;z-index: -1;}#sk-container-id-5 div.sk-parallel-item {display: flex;flex-direction: column;z-index: 1;position: relative;background-color: white;}#sk-container-id-5 div.sk-parallel-item:first-child::after {align-self: flex-end;width: 50%;}#sk-container-id-5 div.sk-parallel-item:last-child::after {align-self: flex-start;width: 50%;}#sk-container-id-5 div.sk-parallel-item:only-child::after {width: 0;}#sk-container-id-5 div.sk-dashed-wrapped {border: 1px dashed gray;margin: 0 0.4em 0.5em 0.4em;box-sizing: border-box;padding-bottom: 0.4em;background-color: white;}#sk-container-id-5 div.sk-label label {font-family: monospace;font-weight: bold;display: inline-block;line-height: 1.2em;}#sk-container-id-5 div.sk-label-container {text-align: center;}#sk-container-id-5 div.sk-container {/* jupyter's `normalize.less` sets `[hidden] { display: none; }` but bootstrap.min.css set `[hidden] { display: none !important; }` so we also need the `!important` here to be able to override the default hidden behavior on the sphinx rendered scikit-learn.org. See: https://github.com/scikit-learn/scikit-learn/issues/21755 */display: inline-block !important;position: relative;}#sk-container-id-5 div.sk-text-repr-fallback {display: none;}</style><div id=\"sk-container-id-5\" class=\"sk-top-container\"><div class=\"sk-text-repr-fallback\"><pre>MultiOutputRegressor(estimator=LinearRegression())</pre><b>In a Jupyter environment, please rerun this cell to show the HTML representation or trust the notebook. <br />On GitHub, the HTML representation is unable to render, please try loading this page with nbviewer.org.</b></div><div class=\"sk-container\" hidden><div class=\"sk-item sk-dashed-wrapped\"><div class=\"sk-label-container\"><div class=\"sk-label sk-toggleable\"><input class=\"sk-toggleable__control sk-hidden--visually\" id=\"sk-estimator-id-9\" type=\"checkbox\" ><label for=\"sk-estimator-id-9\" class=\"sk-toggleable__label sk-toggleable__label-arrow\">MultiOutputRegressor</label><div class=\"sk-toggleable__content\"><pre>MultiOutputRegressor(estimator=LinearRegression())</pre></div></div></div><div class=\"sk-parallel\"><div class=\"sk-parallel-item\"><div class=\"sk-item\"><div class=\"sk-label-container\"><div class=\"sk-label sk-toggleable\"><input class=\"sk-toggleable__control sk-hidden--visually\" id=\"sk-estimator-id-10\" type=\"checkbox\" ><label for=\"sk-estimator-id-10\" class=\"sk-toggleable__label sk-toggleable__label-arrow\">estimator: LinearRegression</label><div class=\"sk-toggleable__content\"><pre>LinearRegression()</pre></div></div></div><div class=\"sk-serial\"><div class=\"sk-item\"><div class=\"sk-estimator sk-toggleable\"><input class=\"sk-toggleable__control sk-hidden--visually\" id=\"sk-estimator-id-11\" type=\"checkbox\" ><label for=\"sk-estimator-id-11\" class=\"sk-toggleable__label sk-toggleable__label-arrow\">LinearRegression</label><div class=\"sk-toggleable__content\"><pre>LinearRegression()</pre></div></div></div></div></div></div></div></div></div></div>"
      ],
      "text/plain": [
       "MultiOutputRegressor(estimator=LinearRegression())"
      ]
     },
     "execution_count": 82,
     "metadata": {},
     "output_type": "execute_result"
    }
   ],
   "source": [
    "## Linear Model\n",
    "lin_reg = LinearRegression()\n",
    "multioutput_reg = MultiOutputRegressor(lin_reg)\n",
    "multioutput_reg.fit(batting_prepared, training_labels)"
   ]
  },
  {
   "cell_type": "code",
   "execution_count": 83,
   "id": "20452b6c",
   "metadata": {},
   "outputs": [],
   "source": [
    "# Testing section used to see if our model is working"
   ]
  },
  {
   "cell_type": "code",
   "execution_count": 84,
   "id": "6b495347",
   "metadata": {},
   "outputs": [],
   "source": [
    "stat_predictions = multioutput_reg.predict(batting_prepared)\n",
    "\n",
    "# for i, column in enumerate(training_labels.columns):\n",
    "#     scores = cross_val_score(multioutput_reg, batting_prepared, training_labels[column].values.reshape(-1, 1), scoring='neg_mean_squared_error', cv=10)\n",
    "#     tree_rmse_scores = np.sqrt(-scores)\n",
    "#     print(f\"For {column}:\\nScores: {scores}, Mean: {scores.mean()}, Standard Deviation: {scores.std()}\")\n",
    "#     mse = mean_squared_error(training_labels[column], stat_predictions[:, i])\n",
    "#     rmse = np.sqrt(mse)\n",
    "#     print(f\"RMSE for {column}: {rmse:.2f}\")\n",
    "#     RMSE for H: 3.27\n",
    "#     RMSE for R: 4.64\n",
    "#     RMSE for HR: 1.09\n",
    "#     RMSE for RBI: 4.83\n",
    "#     RMSE for SB: 3.13\n",
    "#     RMSE for BB: 1.83\n",
    "#     RMSE for IBB: 2.02\n",
    "#     RMSE for HBP: 1.82\n",
    "#     RMSE for OPS: 0.00"
   ]
  },
  {
   "cell_type": "code",
   "execution_count": 85,
   "id": "0d6c52fa",
   "metadata": {},
   "outputs": [],
   "source": [
    "## Decision Tree\n",
    "# tree_reg = DecisionTreeRegressor()\n",
    "# tree_reg.fit(batting_prepared, training_labels)\n",
    "\n",
    "# stat_predictions_tree = tree_reg.predict(batting_prepared)\n",
    "\n",
    "\n",
    "# for i, column in enumerate(training_labels.columns):\n",
    "#     scores = cross_val_score(tree_reg, batting_prepared, training_labels[column], scoring='neg_mean_squared_error', cv=10)\n",
    "#     tree_rmse_scores = np.sqrt(-scores)\n",
    "#     print(f\"For {column}:\\nScores: {scores}, Mean: {scores.mean()}, Standard Deviation: {scores.std()}\")\n",
    "\n",
    "    "
   ]
  },
  {
   "cell_type": "code",
   "execution_count": 86,
   "id": "dc5bd579",
   "metadata": {},
   "outputs": [
    {
     "name": "stdout",
     "output_type": "stream",
     "text": [
      "RMSE for H: 1.79\n",
      "RMSE for R: 1.73\n",
      "RMSE for HR: 0.66\n",
      "RMSE for RBI: 2.44\n",
      "RMSE for SB: 1.79\n",
      "RMSE for BB: 1.40\n",
      "RMSE for IBB: 0.71\n",
      "RMSE for HBP: 1.16\n",
      "RMSE for OPS: 0.02\n"
     ]
    }
   ],
   "source": [
    "## Random Forest\n",
    "forest_reg = RandomForestRegressor()\n",
    "forest_reg.fit(batting_prepared, training_labels)\n",
    "\n",
    "stat_predictions_forest = forest_reg.predict(batting_prepared)\n",
    "for i, column in enumerate(training_labels.columns):\n",
    "#     scores = cross_val_score(forest_reg, batting_prepared, training_labels[column], scoring='neg_mean_squared_error', cv=10)\n",
    "#     tree_rmse_scores = np.sqrt(-scores)\n",
    "#     print(f\"For {column}:\\nScores: {scores}, Mean: {scores.mean()}, Standard Deviation: {scores.std()}\")\n",
    "    mse = mean_squared_error(training_labels[column], stat_predictions_forest[:, i])\n",
    "    rmse = np.sqrt(mse)\n",
    "    print(f\"RMSE for {column}: {rmse:.2f}\")\n",
    "    #     RMSE for H: 2.55\n",
    "    # RMSE for R: 2.29\n",
    "    # RMSE for HR: 1.04\n",
    "    # RMSE for RBI: 2.52\n",
    "    # RMSE for SB: 1.99\n",
    "    # RMSE for BB: 2.52\n",
    "    # RMSE for IBB: 0.91\n",
    "    # RMSE for HBP: 1.18\n",
    "    # RMSE for OPS: 0.02\n",
    "\n",
    "    \n",
    "    "
   ]
  },
  {
   "cell_type": "code",
   "execution_count": 87,
   "id": "6d23c21b",
   "metadata": {},
   "outputs": [],
   "source": [
    "# Fine Tuning the models"
   ]
  },
  {
   "cell_type": "code",
   "execution_count": 88,
   "id": "06c31433",
   "metadata": {},
   "outputs": [
    {
     "data": {
      "text/plain": [
       "{'max_features': 16, 'n_estimators': 100}"
      ]
     },
     "execution_count": 88,
     "metadata": {},
     "output_type": "execute_result"
    }
   ],
   "source": [
    "param_grid = [\n",
    "    {'n_estimators': [100], 'max_features': [16]},\n",
    "#     {'bootstrap':[False], 'n_estimators': [3, 10], 'max_features': [2,3,4]}\n",
    "]\n",
    "\n",
    "grid_search = GridSearchCV(forest_reg, param_grid, cv=5, scoring='neg_mean_squared_error', return_train_score=True)\n",
    "\n",
    "grid_search.fit(batting_prepared, training_labels)\n",
    "\n",
    "grid_search.best_params_"
   ]
  },
  {
   "cell_type": "code",
   "execution_count": 89,
   "id": "dae2bff7",
   "metadata": {},
   "outputs": [
    {
     "data": {
      "text/html": [
       "<style>#sk-container-id-6 {color: black;background-color: white;}#sk-container-id-6 pre{padding: 0;}#sk-container-id-6 div.sk-toggleable {background-color: white;}#sk-container-id-6 label.sk-toggleable__label {cursor: pointer;display: block;width: 100%;margin-bottom: 0;padding: 0.3em;box-sizing: border-box;text-align: center;}#sk-container-id-6 label.sk-toggleable__label-arrow:before {content: \"▸\";float: left;margin-right: 0.25em;color: #696969;}#sk-container-id-6 label.sk-toggleable__label-arrow:hover:before {color: black;}#sk-container-id-6 div.sk-estimator:hover label.sk-toggleable__label-arrow:before {color: black;}#sk-container-id-6 div.sk-toggleable__content {max-height: 0;max-width: 0;overflow: hidden;text-align: left;background-color: #f0f8ff;}#sk-container-id-6 div.sk-toggleable__content pre {margin: 0.2em;color: black;border-radius: 0.25em;background-color: #f0f8ff;}#sk-container-id-6 input.sk-toggleable__control:checked~div.sk-toggleable__content {max-height: 200px;max-width: 100%;overflow: auto;}#sk-container-id-6 input.sk-toggleable__control:checked~label.sk-toggleable__label-arrow:before {content: \"▾\";}#sk-container-id-6 div.sk-estimator input.sk-toggleable__control:checked~label.sk-toggleable__label {background-color: #d4ebff;}#sk-container-id-6 div.sk-label input.sk-toggleable__control:checked~label.sk-toggleable__label {background-color: #d4ebff;}#sk-container-id-6 input.sk-hidden--visually {border: 0;clip: rect(1px 1px 1px 1px);clip: rect(1px, 1px, 1px, 1px);height: 1px;margin: -1px;overflow: hidden;padding: 0;position: absolute;width: 1px;}#sk-container-id-6 div.sk-estimator {font-family: monospace;background-color: #f0f8ff;border: 1px dotted black;border-radius: 0.25em;box-sizing: border-box;margin-bottom: 0.5em;}#sk-container-id-6 div.sk-estimator:hover {background-color: #d4ebff;}#sk-container-id-6 div.sk-parallel-item::after {content: \"\";width: 100%;border-bottom: 1px solid gray;flex-grow: 1;}#sk-container-id-6 div.sk-label:hover label.sk-toggleable__label {background-color: #d4ebff;}#sk-container-id-6 div.sk-serial::before {content: \"\";position: absolute;border-left: 1px solid gray;box-sizing: border-box;top: 0;bottom: 0;left: 50%;z-index: 0;}#sk-container-id-6 div.sk-serial {display: flex;flex-direction: column;align-items: center;background-color: white;padding-right: 0.2em;padding-left: 0.2em;position: relative;}#sk-container-id-6 div.sk-item {position: relative;z-index: 1;}#sk-container-id-6 div.sk-parallel {display: flex;align-items: stretch;justify-content: center;background-color: white;position: relative;}#sk-container-id-6 div.sk-item::before, #sk-container-id-6 div.sk-parallel-item::before {content: \"\";position: absolute;border-left: 1px solid gray;box-sizing: border-box;top: 0;bottom: 0;left: 50%;z-index: -1;}#sk-container-id-6 div.sk-parallel-item {display: flex;flex-direction: column;z-index: 1;position: relative;background-color: white;}#sk-container-id-6 div.sk-parallel-item:first-child::after {align-self: flex-end;width: 50%;}#sk-container-id-6 div.sk-parallel-item:last-child::after {align-self: flex-start;width: 50%;}#sk-container-id-6 div.sk-parallel-item:only-child::after {width: 0;}#sk-container-id-6 div.sk-dashed-wrapped {border: 1px dashed gray;margin: 0 0.4em 0.5em 0.4em;box-sizing: border-box;padding-bottom: 0.4em;background-color: white;}#sk-container-id-6 div.sk-label label {font-family: monospace;font-weight: bold;display: inline-block;line-height: 1.2em;}#sk-container-id-6 div.sk-label-container {text-align: center;}#sk-container-id-6 div.sk-container {/* jupyter's `normalize.less` sets `[hidden] { display: none; }` but bootstrap.min.css set `[hidden] { display: none !important; }` so we also need the `!important` here to be able to override the default hidden behavior on the sphinx rendered scikit-learn.org. See: https://github.com/scikit-learn/scikit-learn/issues/21755 */display: inline-block !important;position: relative;}#sk-container-id-6 div.sk-text-repr-fallback {display: none;}</style><div id=\"sk-container-id-6\" class=\"sk-top-container\"><div class=\"sk-text-repr-fallback\"><pre>RandomForestRegressor(max_features=16)</pre><b>In a Jupyter environment, please rerun this cell to show the HTML representation or trust the notebook. <br />On GitHub, the HTML representation is unable to render, please try loading this page with nbviewer.org.</b></div><div class=\"sk-container\" hidden><div class=\"sk-item\"><div class=\"sk-estimator sk-toggleable\"><input class=\"sk-toggleable__control sk-hidden--visually\" id=\"sk-estimator-id-12\" type=\"checkbox\" checked><label for=\"sk-estimator-id-12\" class=\"sk-toggleable__label sk-toggleable__label-arrow\">RandomForestRegressor</label><div class=\"sk-toggleable__content\"><pre>RandomForestRegressor(max_features=16)</pre></div></div></div></div></div>"
      ],
      "text/plain": [
       "RandomForestRegressor(max_features=16)"
      ]
     },
     "execution_count": 89,
     "metadata": {},
     "output_type": "execute_result"
    }
   ],
   "source": [
    "grid_search.best_estimator_"
   ]
  },
  {
   "cell_type": "code",
   "execution_count": 90,
   "id": "d973529d",
   "metadata": {},
   "outputs": [
    {
     "name": "stdout",
     "output_type": "stream",
     "text": [
      "4.061392121672558 {'max_features': 16, 'n_estimators': 100}\n"
     ]
    }
   ],
   "source": [
    "cvres = grid_search.cv_results_\n",
    "for mean_score, params in zip(cvres['mean_test_score'], cvres['params']):\n",
    "    print(np.sqrt(-mean_score), params)"
   ]
  },
  {
   "cell_type": "code",
   "execution_count": 91,
   "id": "48b5cd21",
   "metadata": {},
   "outputs": [
    {
     "name": "stdout",
     "output_type": "stream",
     "text": [
      "RMSE for H: 4.54\n",
      "RMSE for R: 5.01\n",
      "RMSE for HR: 1.85\n",
      "RMSE for RBI: 6.30\n",
      "RMSE for SB: 4.99\n",
      "RMSE for BB: 4.03\n",
      "RMSE for IBB: 1.83\n",
      "RMSE for HBP: 2.97\n",
      "RMSE for OPS: 0.03\n"
     ]
    }
   ],
   "source": [
    "##Final Model testing\n",
    "final_model = grid_search.best_estimator_\n",
    "\n",
    "testing_stats = test_set.drop(['H', 'R', 'HR', 'RBI','SB','BB', 'IBB','HBP','OPS'], axis=1) # Remove label from data set\n",
    "testing_labels = test_set[['H', 'R', 'HR', 'RBI','SB','BB', 'IBB','HBP','OPS']].copy() # Copy the label values\n",
    "\n",
    "X_test_prepared = full_pipeline.transform(testing_stats)\n",
    "\n",
    "final_predictions = final_model.predict(X_test_prepared)\n",
    "for i, column in enumerate(testing_labels.columns):\n",
    "    final_mse = mean_squared_error(testing_labels[column], final_predictions[:,i])\n",
    "    final_rmse = np.sqrt(final_mse)\n",
    "    print(f\"RMSE for {column}: {final_rmse:.2f}\")\n",
    "\n",
    "# RMSE for H: 4.54\n",
    "# RMSE for R: 5.01\n",
    "# RMSE for HR: 1.85\n",
    "# RMSE for RBI: 6.30\n",
    "# RMSE for SB: 4.99\n",
    "# RMSE for BB: 4.03\n",
    "# RMSE for IBB: 1.83\n",
    "# RMSE for HBP: 2.97\n",
    "# RMSE for OPS: 0.03\n"
   ]
  },
  {
   "cell_type": "code",
   "execution_count": null,
   "id": "344107ad",
   "metadata": {},
   "outputs": [],
   "source": []
  }
 ],
 "metadata": {
  "kernelspec": {
   "display_name": "Python 3 (ipykernel)",
   "language": "python",
   "name": "python3"
  },
  "language_info": {
   "codemirror_mode": {
    "name": "ipython",
    "version": 3
   },
   "file_extension": ".py",
   "mimetype": "text/x-python",
   "name": "python",
   "nbconvert_exporter": "python",
   "pygments_lexer": "ipython3",
   "version": "3.9.7"
  },
  "vscode": {
   "interpreter": {
    "hash": "aee8b7b246df8f9039afb4144a1f6fd8d2ca17a180786b69acc140d282b71a49"
   }
  }
 },
 "nbformat": 4,
 "nbformat_minor": 5
}
