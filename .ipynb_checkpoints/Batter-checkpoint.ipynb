{
 "cells": [
  {
   "cell_type": "code",
   "execution_count": 23,
   "id": "b4286f28",
   "metadata": {},
   "outputs": [
    {
     "name": "stdout",
     "output_type": "stream",
     "text": [
      "../../../../Documents/MLBData/\n"
     ]
    }
   ],
   "source": [
    "import os\n",
    "import pandas as pd\n",
    "import matplotlib.pyplot as plt\n",
    "import numpy as np\n",
    "from sklearn.model_selection import train_test_split\n",
    "\n",
    "DATA_FOLDER = \"../../../../Documents/MLBData/\"\n",
    "print(DATA_FOLDER)\n",
    "\n",
    "def load_batting_data(fileName,data_path = DATA_FOLDER):\n",
    "    csv_path = os.path.join(data_path,fileName)\n",
    "    return pd.read_csv(csv_path)\n",
    "\n",
    "\n",
    "advanced = load_batting_data('2018-BattingAdvanced(CSV).csv')\n",
    "advanced = advanced[advanced['PA'] >= 50]\n",
    "advanced.drop(columns=['Tm'], inplace=True)\n",
    "\n",
    "standard = load_batting_data('2018-BattingStandard(CSV).csv')\n",
    "standard = standard[standard['PA'] >= 50]\n",
    "standard.drop(columns=['Pos Summary', 'Tm', 'Lg', 'Name', 'Age', 'PA'], inplace=True)\n"
   ]
  },
  {
   "cell_type": "code",
   "execution_count": 2,
   "id": "33a12b0e",
   "metadata": {},
   "outputs": [],
   "source": [
    "# advanced.info()"
   ]
  },
  {
   "cell_type": "code",
   "execution_count": 3,
   "id": "ce138a88",
   "metadata": {},
   "outputs": [],
   "source": [
    "# standard.info()"
   ]
  },
  {
   "cell_type": "code",
   "execution_count": 4,
   "id": "bcfdddac",
   "metadata": {},
   "outputs": [],
   "source": [
    "# standard[\"PA\"].value_counts()"
   ]
  },
  {
   "cell_type": "code",
   "execution_count": 5,
   "id": "4ed97dc1",
   "metadata": {},
   "outputs": [],
   "source": [
    "percentValues = ['HR%', 'SO%','BB%','HardH%', 'LD%', 'GB%','FB%', 'Pull%', 'Cent%', 'Oppo%', 'RS%', 'SB%', 'XBT%']\n",
    "for value in percentValues:\n",
    "    advanced[value] = advanced[value].apply(lambda x: float(x.strip('%')) if isinstance(x, str) else x)\n",
    "\n",
    "# advanced.hist(bins=100, figsize =(20, 15))\n",
    "# plt.show()"
   ]
  },
  {
   "cell_type": "code",
   "execution_count": 6,
   "id": "3ae2578a",
   "metadata": {},
   "outputs": [],
   "source": [
    "# standard.hist(bins=100, figsize=(20,15))\n",
    "# plt.show()"
   ]
  },
  {
   "cell_type": "code",
   "execution_count": 7,
   "id": "76fd5ace",
   "metadata": {},
   "outputs": [],
   "source": [
    "total_stats = pd.merge(advanced, standard, on='Name-additional', how='outer')"
   ]
  },
  {
   "cell_type": "code",
   "execution_count": 8,
   "id": "46a20e33",
   "metadata": {},
   "outputs": [
    {
     "name": "stdout",
     "output_type": "stream",
     "text": [
      "<class 'pandas.core.frame.DataFrame'>\n",
      "Int64Index: 551 entries, 0 to 550\n",
      "Data columns (total 49 columns):\n",
      " #   Column           Non-Null Count  Dtype  \n",
      "---  ------           --------------  -----  \n",
      " 0   Name             551 non-null    object \n",
      " 1   Age              550 non-null    float64\n",
      " 2   PA               551 non-null    int64  \n",
      " 3   rOBA             551 non-null    float64\n",
      " 4   Rbat+            551 non-null    float64\n",
      " 5   BAbip            551 non-null    float64\n",
      " 6   ISO              551 non-null    float64\n",
      " 7   HR%              551 non-null    float64\n",
      " 8   SO%              551 non-null    float64\n",
      " 9   BB%              551 non-null    float64\n",
      " 10  EV               551 non-null    float64\n",
      " 11  HardH%           551 non-null    float64\n",
      " 12  LD%              551 non-null    float64\n",
      " 13  GB%              551 non-null    float64\n",
      " 14  FB%              551 non-null    float64\n",
      " 15  GB/FB            551 non-null    float64\n",
      " 16  Pull%            551 non-null    float64\n",
      " 17  Cent%            551 non-null    float64\n",
      " 18  Oppo%            551 non-null    float64\n",
      " 19  WPA              551 non-null    float64\n",
      " 20  cWPA             551 non-null    object \n",
      " 21  RE24             551 non-null    float64\n",
      " 22  RS%              551 non-null    float64\n",
      " 23  SB%              417 non-null    float64\n",
      " 24  XBT%             546 non-null    float64\n",
      " 25  Name-additional  551 non-null    object \n",
      " 26  G                551 non-null    int64  \n",
      " 27  AB               551 non-null    int64  \n",
      " 28  R                551 non-null    int64  \n",
      " 29  H                551 non-null    int64  \n",
      " 30  2B               551 non-null    int64  \n",
      " 31  3B               551 non-null    int64  \n",
      " 32  HR               551 non-null    int64  \n",
      " 33  RBI              551 non-null    int64  \n",
      " 34  SB               551 non-null    int64  \n",
      " 35  CS               551 non-null    int64  \n",
      " 36  BB               551 non-null    int64  \n",
      " 37  SO               551 non-null    int64  \n",
      " 38  BA               551 non-null    float64\n",
      " 39  OBP              551 non-null    float64\n",
      " 40  SLG              551 non-null    float64\n",
      " 41  OPS              551 non-null    float64\n",
      " 42  OPS+             550 non-null    float64\n",
      " 43  TB               551 non-null    int64  \n",
      " 44  GDP              551 non-null    int64  \n",
      " 45  HBP              551 non-null    int64  \n",
      " 46  SH               551 non-null    int64  \n",
      " 47  SF               551 non-null    int64  \n",
      " 48  IBB              551 non-null    int64  \n",
      "dtypes: float64(27), int64(19), object(3)\n",
      "memory usage: 215.2+ KB\n"
     ]
    }
   ],
   "source": [
    "total_stats.info()"
   ]
  },
  {
   "cell_type": "code",
   "execution_count": 25,
   "id": "b9ff3aca",
   "metadata": {},
   "outputs": [
    {
     "name": "stdout",
     "output_type": "stream",
     "text": [
      "440\n",
      "111\n"
     ]
    }
   ],
   "source": [
    "train_set, test_set = train_test_split(total_stats, test_size=0.2, random_state=42)\n",
    "\n",
    "print(len(train_set))\n",
    "print(len(test_set))"
   ]
  },
  {
   "cell_type": "code",
   "execution_count": null,
   "id": "60e6b112",
   "metadata": {},
   "outputs": [],
   "source": []
  }
 ],
 "metadata": {
  "kernelspec": {
   "display_name": "Python 3 (ipykernel)",
   "language": "python",
   "name": "python3"
  },
  "language_info": {
   "codemirror_mode": {
    "name": "ipython",
    "version": 3
   },
   "file_extension": ".py",
   "mimetype": "text/x-python",
   "name": "python",
   "nbconvert_exporter": "python",
   "pygments_lexer": "ipython3",
   "version": "3.8.12"
  },
  "vscode": {
   "interpreter": {
    "hash": "aee8b7b246df8f9039afb4144a1f6fd8d2ca17a180786b69acc140d282b71a49"
   }
  }
 },
 "nbformat": 4,
 "nbformat_minor": 5
}
