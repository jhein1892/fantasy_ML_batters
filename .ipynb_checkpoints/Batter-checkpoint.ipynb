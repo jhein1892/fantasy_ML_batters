{
 "cells": [
  {
   "cell_type": "code",
   "execution_count": 1,
   "id": "b4286f28",
   "metadata": {},
   "outputs": [
    {
     "name": "stdout",
     "output_type": "stream",
     "text": [
      "../../../../Documents/MLBData/\n"
     ]
    }
   ],
   "source": [
    "import os\n",
    "import pandas as pd\n",
    "import matplotlib.pyplot as plt\n",
    "import numpy as np\n",
    "from pandas.plotting import scatter_matrix\n",
    "from sklearn.model_selection import train_test_split\n",
    "from sklearn.pipeline import Pipeline\n",
    "from sklearn.impute import SimpleImputer\n",
    "from sklearn.preprocessing import StandardScaler\n",
    "from sklearn.compose import ColumnTransformer\n",
    "from sklearn.linear_model import LinearRegression\n",
    "from sklearn.multioutput import MultiOutputRegressor\n",
    "\n",
    "DATA_FOLDER = \"../../../../Documents/MLBData/\"\n",
    "print(DATA_FOLDER)\n",
    "\n",
    "def load_batting_data(fileName,data_path = DATA_FOLDER):\n",
    "    csv_path = os.path.join(data_path,fileName)\n",
    "    return pd.read_csv(csv_path)\n",
    "\n",
    "\n",
    "advanced = load_batting_data('2018-BattingAdvanced(CSV).csv')\n",
    "advanced = advanced[advanced['PA'] >= 50]\n",
    "advanced.drop(columns=['Tm', 'cWPA'], inplace=True)\n",
    "\n",
    "standard = load_batting_data('2018-BattingStandard(CSV).csv')\n",
    "standard = standard[standard['PA'] >= 50]\n",
    "standard.drop(columns=['Pos Summary', 'Tm', 'Lg', 'Name', 'Age', 'PA'], inplace=True)\n"
   ]
  },
  {
   "cell_type": "code",
   "execution_count": 2,
   "id": "4ed97dc1",
   "metadata": {},
   "outputs": [],
   "source": [
    "percentValues = ['HR%', 'SO%','BB%','HardH%', 'LD%', 'GB%','FB%', 'Pull%', 'Cent%', 'Oppo%', 'RS%', 'SB%', 'XBT%']\n",
    "for value in percentValues:\n",
    "    advanced[value] = advanced[value].apply(lambda x: float(x.strip('%')) if isinstance(x, str) else x)"
   ]
  },
  {
   "cell_type": "code",
   "execution_count": 3,
   "id": "76fd5ace",
   "metadata": {},
   "outputs": [],
   "source": [
    "total_stats = pd.merge(advanced, standard, on='Name-additional', how='outer')"
   ]
  },
  {
   "cell_type": "code",
   "execution_count": 4,
   "id": "d0cbda32",
   "metadata": {},
   "outputs": [],
   "source": [
    "league_avg = total_stats.iloc[-1]\n",
    "\n",
    "train_set, test_set = train_test_split(total_stats, test_size=0.2, random_state=42) # Split into test and train"
   ]
  },
  {
   "cell_type": "code",
   "execution_count": 5,
   "id": "ad2b0520",
   "metadata": {},
   "outputs": [
    {
     "name": "stdout",
     "output_type": "stream",
     "text": [
      "<class 'pandas.core.frame.DataFrame'>\n",
      "Int64Index: 440 entries, 388 to 102\n",
      "Data columns (total 39 columns):\n",
      " #   Column           Non-Null Count  Dtype  \n",
      "---  ------           --------------  -----  \n",
      " 0   Name             440 non-null    object \n",
      " 1   Age              439 non-null    float64\n",
      " 2   PA               440 non-null    int64  \n",
      " 3   rOBA             440 non-null    float64\n",
      " 4   Rbat+            440 non-null    float64\n",
      " 5   BAbip            440 non-null    float64\n",
      " 6   ISO              440 non-null    float64\n",
      " 7   HR%              440 non-null    float64\n",
      " 8   SO%              440 non-null    float64\n",
      " 9   BB%              440 non-null    float64\n",
      " 10  EV               440 non-null    float64\n",
      " 11  HardH%           440 non-null    float64\n",
      " 12  LD%              440 non-null    float64\n",
      " 13  GB%              440 non-null    float64\n",
      " 14  FB%              440 non-null    float64\n",
      " 15  GB/FB            440 non-null    float64\n",
      " 16  Pull%            440 non-null    float64\n",
      " 17  Cent%            440 non-null    float64\n",
      " 18  Oppo%            440 non-null    float64\n",
      " 19  WPA              440 non-null    float64\n",
      " 20  RE24             440 non-null    float64\n",
      " 21  RS%              440 non-null    float64\n",
      " 22  SB%              329 non-null    float64\n",
      " 23  XBT%             436 non-null    float64\n",
      " 24  Name-additional  440 non-null    object \n",
      " 25  G                440 non-null    int64  \n",
      " 26  AB               440 non-null    int64  \n",
      " 27  2B               440 non-null    int64  \n",
      " 28  3B               440 non-null    int64  \n",
      " 29  CS               440 non-null    int64  \n",
      " 30  SO               440 non-null    int64  \n",
      " 31  BA               440 non-null    float64\n",
      " 32  OBP              440 non-null    float64\n",
      " 33  SLG              440 non-null    float64\n",
      " 34  OPS+             439 non-null    float64\n",
      " 35  TB               440 non-null    int64  \n",
      " 36  GDP              440 non-null    int64  \n",
      " 37  SH               440 non-null    int64  \n",
      " 38  SF               440 non-null    int64  \n",
      "dtypes: float64(26), int64(11), object(2)\n",
      "memory usage: 137.5+ KB\n"
     ]
    }
   ],
   "source": [
    "training_stats = train_set.drop(['H', 'R', 'HR', 'RBI','SB','BB', 'IBB','HBP','OPS'], axis=1) # Remove label from data set\n",
    "training_labels = train_set[['H', 'R', 'HR', 'RBI','SB','BB', 'IBB','HBP','OPS']].copy() # Copy the label values\n",
    "training_stats.info()"
   ]
  },
  {
   "cell_type": "code",
   "execution_count": 6,
   "id": "07e72b7d",
   "metadata": {},
   "outputs": [],
   "source": [
    "# Starting Data Cleaning:\n",
    "training_stats['XBT%'].fillna(0,inplace=True)\n",
    "training_stats['SB%'].fillna(0, inplace=True)"
   ]
  },
  {
   "cell_type": "code",
   "execution_count": 7,
   "id": "89dff9b8",
   "metadata": {},
   "outputs": [],
   "source": [
    "# fitting missing Data\n",
    "imputer = SimpleImputer(strategy='median')\n",
    "batting_num = training_stats.drop(['Name-additional', 'Name'], axis=1) #need to only have numeric values for fitting\n",
    "imputer.fit(batting_num)\n",
    "X = imputer.transform(batting_num)\n",
    "batting_tr = pd.DataFrame(X, columns=batting_num.columns, index=batting_num.index)"
   ]
  },
  {
   "cell_type": "code",
   "execution_count": 8,
   "id": "3c0661ad",
   "metadata": {},
   "outputs": [],
   "source": [
    "num_pipeline = Pipeline([\n",
    "    ('imputer', SimpleImputer(strategy='median')),\n",
    "    ('std_scaler',StandardScaler())\n",
    "])"
   ]
  },
  {
   "cell_type": "code",
   "execution_count": 9,
   "id": "57a47c98",
   "metadata": {},
   "outputs": [],
   "source": [
    "num_attribs = list(batting_num)\n",
    "\n",
    "full_pipeline = ColumnTransformer([\n",
    "    ('num', num_pipeline, num_attribs)\n",
    "])\n",
    "\n",
    "batting_prepared = full_pipeline.fit_transform(batting_tr)"
   ]
  },
  {
   "cell_type": "code",
   "execution_count": 10,
   "id": "398ee0ea",
   "metadata": {},
   "outputs": [],
   "source": [
    "#### Selecting and Training a Model"
   ]
  },
  {
   "cell_type": "code",
   "execution_count": 11,
   "id": "3272e337",
   "metadata": {},
   "outputs": [
    {
     "data": {
      "text/html": [
       "<style>#sk-container-id-1 {color: black;background-color: white;}#sk-container-id-1 pre{padding: 0;}#sk-container-id-1 div.sk-toggleable {background-color: white;}#sk-container-id-1 label.sk-toggleable__label {cursor: pointer;display: block;width: 100%;margin-bottom: 0;padding: 0.3em;box-sizing: border-box;text-align: center;}#sk-container-id-1 label.sk-toggleable__label-arrow:before {content: \"▸\";float: left;margin-right: 0.25em;color: #696969;}#sk-container-id-1 label.sk-toggleable__label-arrow:hover:before {color: black;}#sk-container-id-1 div.sk-estimator:hover label.sk-toggleable__label-arrow:before {color: black;}#sk-container-id-1 div.sk-toggleable__content {max-height: 0;max-width: 0;overflow: hidden;text-align: left;background-color: #f0f8ff;}#sk-container-id-1 div.sk-toggleable__content pre {margin: 0.2em;color: black;border-radius: 0.25em;background-color: #f0f8ff;}#sk-container-id-1 input.sk-toggleable__control:checked~div.sk-toggleable__content {max-height: 200px;max-width: 100%;overflow: auto;}#sk-container-id-1 input.sk-toggleable__control:checked~label.sk-toggleable__label-arrow:before {content: \"▾\";}#sk-container-id-1 div.sk-estimator input.sk-toggleable__control:checked~label.sk-toggleable__label {background-color: #d4ebff;}#sk-container-id-1 div.sk-label input.sk-toggleable__control:checked~label.sk-toggleable__label {background-color: #d4ebff;}#sk-container-id-1 input.sk-hidden--visually {border: 0;clip: rect(1px 1px 1px 1px);clip: rect(1px, 1px, 1px, 1px);height: 1px;margin: -1px;overflow: hidden;padding: 0;position: absolute;width: 1px;}#sk-container-id-1 div.sk-estimator {font-family: monospace;background-color: #f0f8ff;border: 1px dotted black;border-radius: 0.25em;box-sizing: border-box;margin-bottom: 0.5em;}#sk-container-id-1 div.sk-estimator:hover {background-color: #d4ebff;}#sk-container-id-1 div.sk-parallel-item::after {content: \"\";width: 100%;border-bottom: 1px solid gray;flex-grow: 1;}#sk-container-id-1 div.sk-label:hover label.sk-toggleable__label {background-color: #d4ebff;}#sk-container-id-1 div.sk-serial::before {content: \"\";position: absolute;border-left: 1px solid gray;box-sizing: border-box;top: 0;bottom: 0;left: 50%;z-index: 0;}#sk-container-id-1 div.sk-serial {display: flex;flex-direction: column;align-items: center;background-color: white;padding-right: 0.2em;padding-left: 0.2em;position: relative;}#sk-container-id-1 div.sk-item {position: relative;z-index: 1;}#sk-container-id-1 div.sk-parallel {display: flex;align-items: stretch;justify-content: center;background-color: white;position: relative;}#sk-container-id-1 div.sk-item::before, #sk-container-id-1 div.sk-parallel-item::before {content: \"\";position: absolute;border-left: 1px solid gray;box-sizing: border-box;top: 0;bottom: 0;left: 50%;z-index: -1;}#sk-container-id-1 div.sk-parallel-item {display: flex;flex-direction: column;z-index: 1;position: relative;background-color: white;}#sk-container-id-1 div.sk-parallel-item:first-child::after {align-self: flex-end;width: 50%;}#sk-container-id-1 div.sk-parallel-item:last-child::after {align-self: flex-start;width: 50%;}#sk-container-id-1 div.sk-parallel-item:only-child::after {width: 0;}#sk-container-id-1 div.sk-dashed-wrapped {border: 1px dashed gray;margin: 0 0.4em 0.5em 0.4em;box-sizing: border-box;padding-bottom: 0.4em;background-color: white;}#sk-container-id-1 div.sk-label label {font-family: monospace;font-weight: bold;display: inline-block;line-height: 1.2em;}#sk-container-id-1 div.sk-label-container {text-align: center;}#sk-container-id-1 div.sk-container {/* jupyter's `normalize.less` sets `[hidden] { display: none; }` but bootstrap.min.css set `[hidden] { display: none !important; }` so we also need the `!important` here to be able to override the default hidden behavior on the sphinx rendered scikit-learn.org. See: https://github.com/scikit-learn/scikit-learn/issues/21755 */display: inline-block !important;position: relative;}#sk-container-id-1 div.sk-text-repr-fallback {display: none;}</style><div id=\"sk-container-id-1\" class=\"sk-top-container\"><div class=\"sk-text-repr-fallback\"><pre>MultiOutputRegressor(estimator=LinearRegression())</pre><b>In a Jupyter environment, please rerun this cell to show the HTML representation or trust the notebook. <br />On GitHub, the HTML representation is unable to render, please try loading this page with nbviewer.org.</b></div><div class=\"sk-container\" hidden><div class=\"sk-item sk-dashed-wrapped\"><div class=\"sk-label-container\"><div class=\"sk-label sk-toggleable\"><input class=\"sk-toggleable__control sk-hidden--visually\" id=\"sk-estimator-id-1\" type=\"checkbox\" ><label for=\"sk-estimator-id-1\" class=\"sk-toggleable__label sk-toggleable__label-arrow\">MultiOutputRegressor</label><div class=\"sk-toggleable__content\"><pre>MultiOutputRegressor(estimator=LinearRegression())</pre></div></div></div><div class=\"sk-parallel\"><div class=\"sk-parallel-item\"><div class=\"sk-item\"><div class=\"sk-label-container\"><div class=\"sk-label sk-toggleable\"><input class=\"sk-toggleable__control sk-hidden--visually\" id=\"sk-estimator-id-2\" type=\"checkbox\" ><label for=\"sk-estimator-id-2\" class=\"sk-toggleable__label sk-toggleable__label-arrow\">estimator: LinearRegression</label><div class=\"sk-toggleable__content\"><pre>LinearRegression()</pre></div></div></div><div class=\"sk-serial\"><div class=\"sk-item\"><div class=\"sk-estimator sk-toggleable\"><input class=\"sk-toggleable__control sk-hidden--visually\" id=\"sk-estimator-id-3\" type=\"checkbox\" ><label for=\"sk-estimator-id-3\" class=\"sk-toggleable__label sk-toggleable__label-arrow\">LinearRegression</label><div class=\"sk-toggleable__content\"><pre>LinearRegression()</pre></div></div></div></div></div></div></div></div></div></div>"
      ],
      "text/plain": [
       "MultiOutputRegressor(estimator=LinearRegression())"
      ]
     },
     "execution_count": 11,
     "metadata": {},
     "output_type": "execute_result"
    }
   ],
   "source": [
    "lin_reg = LinearRegression()\n",
    "multioutput_reg = MultiOutputRegressor(lin_reg)\n",
    "multioutput_reg.fit(batting_prepared, training_labels)"
   ]
  },
  {
   "cell_type": "code",
   "execution_count": 14,
   "id": "cbc4b3f1",
   "metadata": {},
   "outputs": [
    {
     "name": "stdout",
     "output_type": "stream",
     "text": [
      "Predictions: [[120.65130647  72.27432242  21.77888316  76.48627788   7.88128057\n",
      "   61.68073767   4.57611807   5.14736534   0.83906861]\n",
      " [118.36743017  62.35658163  12.54132997  54.98692742  10.40193494\n",
      "   42.57866875   2.55239221   3.48879112   0.69895163]\n",
      " [116.64237127  66.34971596   4.78873956  32.37185195  27.07659267\n",
      "   43.75258023   0.9014709    3.14978108   0.62613858]\n",
      " [159.68362058  77.55084438  16.10839075  66.09268102  12.95432617\n",
      "   54.37124241   3.87922688   6.40275328   0.83685465]\n",
      " [ 38.39480557  23.25163844   4.53523005  13.6845825    2.49292057\n",
      "   17.49687592   0.44483841   1.48130906   0.67113584]]\n",
      "Labels: [array([117.   ,  75.   ,  23.   ,  81.   ,  12.   ,  61.   ,   5.   ,\n",
      "         3.   ,   0.839]), array([114.   ,  51.   ,  14.   ,  59.   ,  10.   ,  44.   ,  15.   ,\n",
      "         2.   ,   0.699]), array([119.   ,  74.   ,   4.   ,  29.   ,  34.   ,  46.   ,   0.   ,\n",
      "         1.   ,   0.626]), array([169.   ,  84.   ,  13.   ,  61.   ,  17.   ,  55.   ,   4.   ,\n",
      "         6.   ,   0.837]), array([40.   , 23.   ,  4.   , 11.   ,  2.   , 17.   ,  0.   ,  2.   ,\n",
      "        0.671])]\n"
     ]
    }
   ],
   "source": [
    "some_data = training_stats.iloc[:5]\n",
    "some_labels = training_labels.iloc[:5]\n",
    "some_data_prepared = full_pipeline.transform(some_data)\n",
    "print(\"Predictions:\", multioutput_reg.predict(some_data_prepared))\n",
    "print(\"Labels:\", list(some_labels.values))"
   ]
  },
  {
   "cell_type": "code",
   "execution_count": null,
   "id": "5412ba84",
   "metadata": {},
   "outputs": [],
   "source": []
  }
 ],
 "metadata": {
  "kernelspec": {
   "display_name": "Python 3 (ipykernel)",
   "language": "python",
   "name": "python3"
  },
  "language_info": {
   "codemirror_mode": {
    "name": "ipython",
    "version": 3
   },
   "file_extension": ".py",
   "mimetype": "text/x-python",
   "name": "python",
   "nbconvert_exporter": "python",
   "pygments_lexer": "ipython3",
   "version": "3.8.12"
  },
  "vscode": {
   "interpreter": {
    "hash": "aee8b7b246df8f9039afb4144a1f6fd8d2ca17a180786b69acc140d282b71a49"
   }
  }
 },
 "nbformat": 4,
 "nbformat_minor": 5
}
